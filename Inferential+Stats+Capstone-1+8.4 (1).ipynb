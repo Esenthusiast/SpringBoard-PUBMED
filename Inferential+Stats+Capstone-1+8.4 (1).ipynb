{
 "cells": [
  {
   "cell_type": "code",
   "execution_count": 56,
   "metadata": {
    "collapsed": true
   },
   "outputs": [],
   "source": [
    "import pandas as pd\n",
    "import matplotlib.pyplot as plt\n",
    "import matplotlib.axes as axe\n",
    "import seaborn as sns\n",
    "import scipy.stats as stats\n",
    "import numpy as np"
   ]
  },
  {
   "cell_type": "markdown",
   "metadata": {},
   "source": [
    "import and clean initial data"
   ]
  },
  {
   "cell_type": "code",
   "execution_count": 26,
   "metadata": {
    "collapsed": true
   },
   "outputs": [],
   "source": [
    "columns = ['year', 'month', 'title', 'abstract', 'first_author', 'journal_name', 'journal_abb', 'language']\n",
    "df_2014 =pd.read_csv('C:/Users/Esme/Desktop/Springboard/Data_Scrapper/Cancer_results_2014_Jan_test.tab', index_col = 0, header= 0, sep=\"\\t\", engine = 'python', na_filter = False, parse_dates = columns)\n",
    "df_2015=pd.read_csv('C:/Users/Esme/Desktop/Springboard/Data_Scrapper/Cancer_results_2015.tab', index_col = 0, header= 0, sep=\"\\t\", engine = 'python', na_filter = False, parse_dates = columns)\n",
    "df_2016=pd.read_csv('C:/Users/Esme/Desktop/Springboard/Data_Scrapper/Cancer_results_2016_1.tab', index_col = 0, header= 0, sep=\"\\t\", engine = 'python', na_filter = False, parse_dates = columns)\n",
    "df_2013=pd.read_csv('C:/Users/Esme/Desktop/Springboard/Data_Scrapper/Cancer_results_2013.tab', index_col = 0, header= 0, sep=\"\\t\", engine = 'python', na_filter = False, parse_dates = columns)\n",
    "df_2012=pd.read_csv('C:/Users/Esme/Desktop/Springboard/Data_Scrapper/Cancer_results_2012.tab', index_col = 0, header= 0, sep=\"\\t\", engine = 'python', na_filter = False, parse_dates = columns)"
   ]
  },
  {
   "cell_type": "code",
   "execution_count": 27,
   "metadata": {
    "collapsed": true
   },
   "outputs": [],
   "source": [
    "df_2014_edited = df_2014\n",
    "df_2015_edited = df_2015\n",
    "df_2016_edited = df_2016\n",
    "df_2013_edited = df_2013\n",
    "df_2012_edited = df_2012\n",
    "\n",
    "# setting an editing list of each DF to work with\n",
    "# clean up the year, and save as an intiger in each DF\n",
    "df_2014_edited['year']= df_2014['year'].astype(str).str[:4].astype(int)\n",
    "df_2015_edited['year']= df_2015['year'].astype(str).str[:4].astype(int)\n",
    "df_2016_edited['year']= df_2016['year'].astype(str).str[:4].astype(int)\n",
    "df_2013_edited['year']= df_2013['year'].astype(str).str[:4].astype(int)\n",
    "df_2012_edited['year']= df_2012['year'].astype(str).str[:4].astype(int)\n",
    "\n",
    "columns_names = [ 'Year', 'Month', 'Paper Title', 'Abstract', 'First Author Name', 'Journal Name', 'Journal Abb.', 'Language']\n",
    "df_2014_edited.columns = columns_names\n",
    "df_2015_edited.columns = columns_names\n",
    "df_2016_edited.columns = columns_names\n",
    "df_2013_edited.columns = columns_names\n",
    "df_2012_edited.columns = columns_names\n",
    "\n",
    "df_2012_edited['Language']= df_2012_edited['Language'].astype(str).str[2:5]\n",
    "df_2013_edited['Language']= df_2013_edited['Language'].astype(str).str[2:5]\n",
    "df_2014_edited['Language']= df_2014_edited['Language'].astype(str).str[2:5]\n",
    "df_2015_edited['Language']= df_2015_edited['Language'].astype(str).str[2:5]\n",
    "df_2016_edited['Language']= df_2016_edited['Language'].astype(str).str[2:5]"
   ]
  },
  {
   "cell_type": "code",
   "execution_count": 28,
   "metadata": {},
   "outputs": [
    {
     "name": "stdout",
     "output_type": "stream",
     "text": [
      "<class 'pandas.core.frame.DataFrame'>\n",
      "Int64Index: 21685 entries, 28473730 to 28040198\n",
      "Data columns (total 8 columns):\n",
      "Year                 21685 non-null int32\n",
      "Month                21685 non-null int64\n",
      "Paper Title          21685 non-null object\n",
      "Abstract             21685 non-null object\n",
      "First Author Name    21685 non-null object\n",
      "Journal Name         21685 non-null object\n",
      "Journal Abb.         21685 non-null object\n",
      "Language             21685 non-null object\n",
      "dtypes: int32(1), int64(1), object(6)\n",
      "memory usage: 1.4+ MB\n"
     ]
    }
   ],
   "source": [
    "df_2012_2013 = df_2012_edited.append(df_2013_edited)\n",
    "df_2012_2013_2014 = df_2012_2013.append(df_2014_edited)\n",
    "df_2012_2013_2014_2015 = df_2012_2013_2014.append(df_2015_edited)\n",
    "df_all = df_2012_2013_2014_2015.append(df_2016_edited)\n",
    "df_all.info()"
   ]
  },
  {
   "cell_type": "markdown",
   "metadata": {},
   "source": [
    "# Back to the Point: Regression analysis\n",
    "At this point I have 3 questions:\n",
    "\n",
    "1) Does the rate of publications by month fit a normal distribution? I.e. what does the data look like?\n",
    "\n",
    "2) Does the overall trend in increase in Cancer papers fit a similar increase in overall publications? Or does the rate of increase differ drastically?\n",
    "\n",
    "3) Was the difference in monthly publications in 2014 significant? And if so why?\n",
    "\n",
    "Starting Hypothesis:\n",
    "Publication rate over 3 years( 2014-2016, inclusive) for PubMed publications containing keyword \"Cancer\" follow a normal distribution\n",
    "H0: Distribution fits within a margin of error with normal distribution bell curve.\n",
    "H1: Distribution does not fit on bell curve, within a margin of error. "
   ]
  },
  {
   "cell_type": "code",
   "execution_count": 29,
   "metadata": {},
   "outputs": [
    {
     "name": "stdout",
     "output_type": "stream",
     "text": [
      "3.22487385117e-16\n"
     ]
    }
   ],
   "source": [
    "dates_count= df_all.groupby(['Year', 'Month']).Month.count()\n",
    "#isolate the number of publications by each month/year\n",
    "\n",
    "chi_squared, p_value = stats.normaltest(dates_count)\n",
    "print(p_value)\n",
    "# find p_value likelhood that the distribution of papers by month for all the years matches a normal distribution"
   ]
  },
  {
   "cell_type": "code",
   "execution_count": 43,
   "metadata": {},
   "outputs": [
    {
     "name": "stdout",
     "output_type": "stream",
     "text": [
      "71.3409353087\n"
     ]
    }
   ],
   "source": [
    "print(chi_squared)"
   ]
  },
  {
   "cell_type": "markdown",
   "metadata": {},
   "source": [
    " The reported p value when looking across the four years fits < 0.05, in fact it is 0.0000000000000003224...\n",
    " Which is a very convinencing P value. \n",
    " \n",
    " the p_value for each year individually is more of a question\n",
    " Does each year fall into a normal distribution? Especially given that they have a different N value. "
   ]
  },
  {
   "cell_type": "code",
   "execution_count": 53,
   "metadata": {},
   "outputs": [
    {
     "name": "stdout",
     "output_type": "stream",
     "text": [
      "The P values measuring the likelhood that the different years  publication trends follow a normal distribution are- 2012: 0.000000, 2013: 0.000000, 2014: 0.035866, 2015: 0.000000 and 2016: 0.000000\n"
     ]
    },
    {
     "name": "stderr",
     "output_type": "stream",
     "text": [
      "C:\\ProgramData\\Anaconda3\\lib\\site-packages\\scipy\\stats\\stats.py:1334: UserWarning: kurtosistest only valid for n>=20 ... continuing anyway, n=14\n",
      "  \"anyway, n=%i\" % int(n))\n"
     ]
    }
   ],
   "source": [
    "count_2012= df_2012_edited.groupby(['Year', 'Month']).Month.count()\n",
    "count_2013= df_2013_edited.groupby(['Year', 'Month']).Month.count()\n",
    "count_2014= df_2014_edited.groupby(['Year', 'Month']).Month.count()\n",
    "count_2015= df_2015_edited.groupby(['Year', 'Month']).Month.count()\n",
    "count_2016= df_2016_edited.groupby(['Year', 'Month']).Month.count()\n",
    "\n",
    "month_2012 = df_2012_edited['Month']\n",
    "month_2013 = df_2013_edited['Month']\n",
    "month_2014 = df_2014_edited['Month']\n",
    "month_2015 = df_2015_edited['Month']\n",
    "month_2016 = df_2016_edited['Month']\n",
    "\n",
    "\n",
    "\n",
    "#isolate the number of publications by each month/year\n",
    "\n",
    "chi_squared_12, p_value_12 = stats.normaltest(count_2012)\n",
    "chi_squared_13, p_value_13 = stats.normaltest(count_2013)\n",
    "chi_squared_14, p_value_14 = stats.normaltest(count_2014)\n",
    "chi_squared_15, p_value_15 = stats.normaltest(count_2015)\n",
    "chi_squared_16, p_value_16 = stats.normaltest(count_2016)\n",
    "\n",
    "print(\"The P values measuring the likelhood that the different years  publication trends follow a normal distribution are- 2012: %0.6F, 2013: %0.6F, 2014: %0.6F, 2015: %0.6F and 2016: %0.6F\" % (p_value_12,p_value_13, p_value_14, p_value_15, p_value_16))"
   ]
  },
  {
   "cell_type": "code",
   "execution_count": 54,
   "metadata": {},
   "outputs": [
    {
     "name": "stdout",
     "output_type": "stream",
     "text": [
      "2.32591939532e-18\n"
     ]
    }
   ],
   "source": [
    "print(p_value_12)"
   ]
  },
  {
   "cell_type": "markdown",
   "metadata": {},
   "source": [
    "All p values are still a lot lower then 0.05 percent. Therefore fit a normal distribution. I would now confidently accept the null hypothesis."
   ]
  },
  {
   "cell_type": "code",
   "execution_count": 24,
   "metadata": {},
   "outputs": [
    {
     "data": {
      "image/png": "[encoded data removed]",
      "text/plain": [
       "<matplotlib.figure.Figure at 0xe47f4a8>"
      ]
     },
     "metadata": {},
     "output_type": "display_data"
    }
   ],
   "source": [
    "_= plt.hist(x = df_2013_edited['Month'], bins= 12, color = 'blue', histtype = 'bar', edgecolor = 'black')\n",
    "_ = plt.xlabel('Month')\n",
    "_= plt.ylabel('Frequency of Pubmed Publications About Cancer')\n",
    "_= plt.title ('3 Year Random Data on Publication Trends by Month')\n",
    "months=[1, 2, 3, 4, 5, 6, 7, 8, 9, 10, 11, 12]\n",
    "labels = ['Jan', 'Feb', 'Mar', 'Apr', 'May', 'June', 'July', 'Aug', 'Sep', 'Oct', 'Nov', 'Dec']\n",
    "_ = plt.xticks(months, labels)\n",
    "_= plt.show()"
   ]
  },
  {
   "cell_type": "code",
   "execution_count": 42,
   "metadata": {},
   "outputs": [
    {
     "name": "stderr",
     "output_type": "stream",
     "text": [
      "C:\\ProgramData\\Anaconda3\\lib\\site-packages\\matplotlib\\axes\\_axes.py:518: UserWarning: You have mixed positional and keyword arguments, some input will be discarded.\n",
      "  warnings.warn(\"You have mixed positional and keyword \"\n"
     ]
    },
    {
     "data": {
      "image/png": "[encoded data removed]",
      "text/plain": [
       "<matplotlib.figure.Figure at 0xe259400>"
      ]
     },
     "metadata": {},
     "output_type": "display_data"
    }
   ],
   "source": [
    "\n",
    "\n",
    "group_all = (month_2012, month_2013, month_2014, month_2015, month_2016)\n",
    "_=plt.hist(group_all, align= 'mid')\n",
    "_ = plt.xlabel('Month')\n",
    "_= plt.ylabel('Frequency of Pubmed Publications About Cancer')\n",
    "_= plt.title ('5 Year Random Data on Publication Trends by Month')\n",
    "months=[1, 2, 3, 4, 5, 6, 7, 8, 9, 10, 11, 12]\n",
    "labels = ['Jan', 'Feb', 'Mar', 'Apr', 'May', 'June', 'July', 'Aug', 'Sep', 'Oct', 'Nov', 'Dec']\n",
    "_ = plt.xticks(months, labels)\n",
    "years = ['2012', '2013', '2014', '2015', '2016']\n",
    "_= plt.legend( 'upper left', labels = years)\n",
    "\n",
    "_= plt.show()"
   ]
  },
  {
   "cell_type": "markdown",
   "metadata": {},
   "source": [
    "What is the margin of error and confidence interval of the publication per month between the years?\n",
    "This is especially important because the years have different total data points- as is visible in the graph above. "
   ]
  },
  {
   "cell_type": "code",
   "execution_count": 57,
   "metadata": {},
   "outputs": [],
   "source": [
    "mean_2012 = np.mean(month_2012)\n",
    "mean_2013 = np.mean(month_2013)\n",
    "mean_2014 = np.mean(month_2014)\n",
    "mean_2015 = np.mean(month_2015)\n",
    "mean_2016 = np.mean(month_2016)\n",
    "\n",
    "var_2012 = np.var(month_2012)\n",
    "var_2013 = np.var(month_2013)\n",
    "var_2014 = np.var(month_2014)\n",
    "var_2015 = np.var(month_2015)\n",
    "var_2016 = np.var(month_2016)\n",
    "\n",
    "n_2012 = len(month_2012)\n",
    "n_2013 = len(month_2013)\n",
    "n_2014 = len(month_2014)\n",
    "n_2015 = len(month_2015)\n",
    "n_2016 = len(month_2016)\n",
    "\n",
    "std_2012 = np.std(month_2012)\n",
    "std_2013 = np.std(month_2013)\n",
    "std_2014 = np.std(month_2014)\n",
    "std_2015 = np.std(month_2015)\n",
    "std_2016 = np.std(month_2016)\n"
   ]
  },
  {
   "cell_type": "code",
   "execution_count": 59,
   "metadata": {},
   "outputs": [
    {
     "data": {
      "text/plain": [
       "F_onewayResult(statistic=225.73566120684927, pvalue=3.4635390317028267e-190)"
      ]
     },
     "execution_count": 59,
     "metadata": {},
     "output_type": "execute_result"
    }
   ],
   "source": [
    "stats.f_oneway( month_2012, month_2013, month_2014, month_2015, month_2016)"
   ]
  },
  {
   "cell_type": "code",
   "execution_count": null,
   "metadata": {
    "collapsed": true
   },
   "outputs": [],
   "source": [
    "se_CI = np.sqrt((mean_b*(1 - mean_b)/(len(b_data_c))) + (mean_w*(1 - mean_w) /(len(w_data_c))))\n",
    "\n",
    "t, p = stats.ttest_ind_from_stats(mean_b, np.sqrt(var_b), n_b,\n",
    "                           mean_w, np.sqrt(var_w), n_w,\n",
    "                           equal_var= False)"
   ]
  }
 ],
 "metadata": {
  "kernelspec": {
   "display_name": "Python 3",
   "language": "python",
   "name": "python3"
  },
  "language_info": {
   "codemirror_mode": {
    "name": "ipython",
    "version": 3
   },
   "file_extension": ".py",
   "mimetype": "text/x-python",
   "name": "python",
   "nbconvert_exporter": "python",
   "pygments_lexer": "ipython3",
   "version": "3.6.1"
  }
 },
 "nbformat": 4,
 "nbformat_minor": 2
}
