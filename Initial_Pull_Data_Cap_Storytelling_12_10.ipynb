{
 "cells": [
  {
   "cell_type": "code",
   "execution_count": 6,
   "metadata": {
    "collapsed": true
   },
   "outputs": [],
   "source": [
    "import pandas as pd\n",
    "import matplotlib.pyplot as plt\n",
    "import seaborn as sns"
   ]
  },
  {
   "cell_type": "code",
   "execution_count": 7,
   "metadata": {},
   "outputs": [
    {
     "name": "stdout",
     "output_type": "stream",
     "text": [
      "               year  month                                              title  \\\n",
      "id                                                                              \n",
      "27011469 2015-01-01      1  External Carotid Artery Ligation in Squamous C...   \n",
      "26496511 2014-01-01     10  Addition of Cladribine to Idarubicin and Cytar...   \n",
      "26496463 2014-01-01     10  Carboplatin and Etoposide in Heavily Pretreate...   \n",
      "\n",
      "                                                   abstract  \\\n",
      "id                                                            \n",
      "27011469  ['The purpose of this study is to investigate ...   \n",
      "26496511  [StringElement('The aims of this study were to...   \n",
      "26496463  [StringElement('Treatment of recurrent anaplas...   \n",
      "\n",
      "                    first_author                   journal_name  \\\n",
      "id                                                                \n",
      "27011469      ('Kumar', 'Tarun')  The Indian journal of surgery   \n",
      "26496511      ('Shen', 'Yaoyao')                   Chemotherapy   \n",
      "26496463  ('Tonder', 'Michaela')                   Chemotherapy   \n",
      "\n",
      "            journal_abb language  \n",
      "id                                \n",
      "27011469  Indian J Surg  ['eng']  \n",
      "26496511   Chemotherapy  ['eng']  \n",
      "26496463   Chemotherapy  ['eng']  \n",
      "               year  month                                              title  \\\n",
      "id                                                                              \n",
      "29071011 2017-01-01     10   Cancer Chemopreventive Potential of Procyanidin.   \n",
      "28906004 2017-01-01     11  Acute myeloid leukaemia (FAB AML-M4Eo) with cr...   \n",
      "28855816 2017-01-01     10  Identification of novel inhibitors against Cyc...   \n",
      "\n",
      "                                                   abstract  \\\n",
      "id                                                            \n",
      "29071011  ['Chemoprevention entails the use of synthetic...   \n",
      "28906004  [\"Inv(16)(p13q22) and t(16;16)(p13;q22) are cy...   \n",
      "28855816  [\"Cell cycle consists of different types of ph...   \n",
      "\n",
      "                            first_author  \\\n",
      "id                                         \n",
      "29071011              ('Lee', 'Yongkyu')   \n",
      "28906004  ('Douet-Guilbert', 'Nathalie')   \n",
      "28855816            ('Hussain', 'Afzal')   \n",
      "\n",
      "                                  journal_name       journal_abb language  \n",
      "id                                                                         \n",
      "29071011                Toxicological research       Toxicol Res  ['eng']  \n",
      "28906004                Hematological oncology     Hematol Oncol  ['eng']  \n",
      "28855816  Saudi journal of biological sciences  Saudi J Biol Sci  ['eng']  \n",
      "               year  month                                              title  \\\n",
      "id                                                                              \n",
      "29209520 2016-01-01      2  Comparing assessment frameworks for cancer dru...   \n",
      "29204565 2016-01-01      5  Early oral tongue cancer initially managed wit...   \n",
      "29204558 2016-01-01      8  High risk cutaneous squamous cell carcinoma of...   \n",
      "\n",
      "                                                   abstract  \\\n",
      "id                                                            \n",
      "29209520  ['The increasing burden of costs associated wi...   \n",
      "29204565  [StringElement('To report T1-2N0 tongue cancer...   \n",
      "29204558  ['The majority of patients with head and neck ...   \n",
      "\n",
      "                     first_author  \\\n",
      "id                                  \n",
      "29209520  ('Cheung', 'Matthew C')   \n",
      "29204565     ('Liu', 'Jeffrey C')   \n",
      "29204558    ('Kang', 'Stephen Y')   \n",
      "\n",
      "                                               journal_name  \\\n",
      "id                                                            \n",
      "29209520                                          ESMO open   \n",
      "29204565  World journal of otorhinolaryngology - head an...   \n",
      "29204558  World journal of otorhinolaryngology - head an...   \n",
      "\n",
      "                                      journal_abb language  \n",
      "id                                                          \n",
      "29209520                                ESMO Open  ['eng']  \n",
      "29204565  World J Otorhinolaryngol Head Neck Surg  ['eng']  \n",
      "29204558  World J Otorhinolaryngol Head Neck Surg  ['eng']  \n"
     ]
    }
   ],
   "source": [
    "columns = ['year', 'month', 'title', 'abstract', 'first_author', 'journal_name', 'journal_abb', 'language']\n",
    "df_2014 =pd.read_csv('C:/Users/Esme/Desktop/Springboard/Data Scrapper/Cancer_results_2014_Jan_test.tab', index_col = 0, header= 0, sep=\"\\t\", engine = 'python', na_filter = False, parse_dates = columns)\n",
    "df_2015=pd.read_csv('C:/Users/Esme/Desktop/Springboard/Data Scrapper/Cancer_results_2015.tab', index_col = 0, header= 0, sep=\"\\t\", engine = 'python', na_filter = False, parse_dates = columns)\n",
    "df_2016=pd.read_csv('C:/Users/Esme/Desktop/Springboard/Data Scrapper/Cancer_results_2016_1.tab', index_col = 0, header= 0, sep=\"\\t\", engine = 'python', na_filter = False, parse_dates = columns)\n",
    "\n",
    "print(df_2014.head(3))\n",
    "print(df_2015.head(3))\n",
    "print(df_2016.head(3))\n",
    "# pulling the CSV file into a Pandas Dataframe and checking that they worked"
   ]
  },
  {
   "cell_type": "code",
   "execution_count": 8,
   "metadata": {
    "collapsed": true
   },
   "outputs": [],
   "source": [
    "df_2014_edited = df_2014\n",
    "df_2015_edited = df_2015\n",
    "df_2016_edited = df_2016\n",
    "# setting an editing list of each DF to work with\n",
    "# clean up the year, and save as an intiger in each DF\n",
    "df_2014_edited['year']= df_2014['year'].astype(str).str[:4].astype(int)\n",
    "df_2015_edited['year']= df_2015['year'].astype(str).str[:4].astype(int)\n",
    "df_2016_edited['year']= df_2016['year'].astype(str).str[:4].astype(int)"
   ]
  },
  {
   "cell_type": "code",
   "execution_count": 9,
   "metadata": {},
   "outputs": [
    {
     "data": {
      "text/html": [
       "<div>\n",
       "<style>\n",
       "    .dataframe thead tr:only-child th {\n",
       "        text-align: right;\n",
       "    }\n",
       "\n",
       "    .dataframe thead th {\n",
       "        text-align: left;\n",
       "    }\n",
       "\n",
       "    .dataframe tbody tr th {\n",
       "        vertical-align: top;\n",
       "    }\n",
       "</style>\n",
       "<table border=\"1\" class=\"dataframe\">\n",
       "  <thead>\n",
       "    <tr style=\"text-align: right;\">\n",
       "      <th></th>\n",
       "      <th>Year</th>\n",
       "      <th>Month</th>\n",
       "      <th>Paper Title</th>\n",
       "      <th>Abstract</th>\n",
       "      <th>First Author Name</th>\n",
       "      <th>Journal Name</th>\n",
       "      <th>Journal Abb.</th>\n",
       "      <th>Language</th>\n",
       "    </tr>\n",
       "    <tr>\n",
       "      <th>id</th>\n",
       "      <th></th>\n",
       "      <th></th>\n",
       "      <th></th>\n",
       "      <th></th>\n",
       "      <th></th>\n",
       "      <th></th>\n",
       "      <th></th>\n",
       "      <th></th>\n",
       "    </tr>\n",
       "  </thead>\n",
       "  <tbody>\n",
       "    <tr>\n",
       "      <th>27011469</th>\n",
       "      <td>2015</td>\n",
       "      <td>1</td>\n",
       "      <td>External Carotid Artery Ligation in Squamous C...</td>\n",
       "      <td>['The purpose of this study is to investigate ...</td>\n",
       "      <td>('Kumar', 'Tarun')</td>\n",
       "      <td>The Indian journal of surgery</td>\n",
       "      <td>Indian J Surg</td>\n",
       "      <td>['eng']</td>\n",
       "    </tr>\n",
       "    <tr>\n",
       "      <th>26496511</th>\n",
       "      <td>2014</td>\n",
       "      <td>10</td>\n",
       "      <td>Addition of Cladribine to Idarubicin and Cytar...</td>\n",
       "      <td>[StringElement('The aims of this study were to...</td>\n",
       "      <td>('Shen', 'Yaoyao')</td>\n",
       "      <td>Chemotherapy</td>\n",
       "      <td>Chemotherapy</td>\n",
       "      <td>['eng']</td>\n",
       "    </tr>\n",
       "    <tr>\n",
       "      <th>26496463</th>\n",
       "      <td>2014</td>\n",
       "      <td>10</td>\n",
       "      <td>Carboplatin and Etoposide in Heavily Pretreate...</td>\n",
       "      <td>[StringElement('Treatment of recurrent anaplas...</td>\n",
       "      <td>('Tonder', 'Michaela')</td>\n",
       "      <td>Chemotherapy</td>\n",
       "      <td>Chemotherapy</td>\n",
       "      <td>['eng']</td>\n",
       "    </tr>\n",
       "  </tbody>\n",
       "</table>\n",
       "</div>"
      ],
      "text/plain": [
       "          Year  Month                                        Paper Title  \\\n",
       "id                                                                         \n",
       "27011469  2015      1  External Carotid Artery Ligation in Squamous C...   \n",
       "26496511  2014     10  Addition of Cladribine to Idarubicin and Cytar...   \n",
       "26496463  2014     10  Carboplatin and Etoposide in Heavily Pretreate...   \n",
       "\n",
       "                                                   Abstract  \\\n",
       "id                                                            \n",
       "27011469  ['The purpose of this study is to investigate ...   \n",
       "26496511  [StringElement('The aims of this study were to...   \n",
       "26496463  [StringElement('Treatment of recurrent anaplas...   \n",
       "\n",
       "               First Author Name                   Journal Name  \\\n",
       "id                                                                \n",
       "27011469      ('Kumar', 'Tarun')  The Indian journal of surgery   \n",
       "26496511      ('Shen', 'Yaoyao')                   Chemotherapy   \n",
       "26496463  ('Tonder', 'Michaela')                   Chemotherapy   \n",
       "\n",
       "           Journal Abb. Language  \n",
       "id                                \n",
       "27011469  Indian J Surg  ['eng']  \n",
       "26496511   Chemotherapy  ['eng']  \n",
       "26496463   Chemotherapy  ['eng']  "
      ]
     },
     "execution_count": 9,
     "metadata": {},
     "output_type": "execute_result"
    }
   ],
   "source": [
    "columns_names = [ 'Year', 'Month', 'Paper Title', 'Abstract', 'First Author Name', 'Journal Name', 'Journal Abb.', 'Language']\n",
    "df_2014_edited.columns = columns_names\n",
    "df_2015_edited.columns = columns_names\n",
    "df_2016_edited.columns = columns_names\n",
    "df_2014.head(3)\n",
    "# renaming column heads and check"
   ]
  },
  {
   "cell_type": "code",
   "execution_count": 10,
   "metadata": {},
   "outputs": [
    {
     "data": {
      "text/html": [
       "<div>\n",
       "<style>\n",
       "    .dataframe thead tr:only-child th {\n",
       "        text-align: right;\n",
       "    }\n",
       "\n",
       "    .dataframe thead th {\n",
       "        text-align: left;\n",
       "    }\n",
       "\n",
       "    .dataframe tbody tr th {\n",
       "        vertical-align: top;\n",
       "    }\n",
       "</style>\n",
       "<table border=\"1\" class=\"dataframe\">\n",
       "  <thead>\n",
       "    <tr style=\"text-align: right;\">\n",
       "      <th></th>\n",
       "      <th>Year</th>\n",
       "      <th>Month</th>\n",
       "      <th>Paper Title</th>\n",
       "      <th>Abstract</th>\n",
       "      <th>First Author Name</th>\n",
       "      <th>Journal Name</th>\n",
       "      <th>Journal Abb.</th>\n",
       "      <th>Language</th>\n",
       "    </tr>\n",
       "    <tr>\n",
       "      <th>id</th>\n",
       "      <th></th>\n",
       "      <th></th>\n",
       "      <th></th>\n",
       "      <th></th>\n",
       "      <th></th>\n",
       "      <th></th>\n",
       "      <th></th>\n",
       "      <th></th>\n",
       "    </tr>\n",
       "  </thead>\n",
       "  <tbody>\n",
       "    <tr>\n",
       "      <th>29209520</th>\n",
       "      <td>2016</td>\n",
       "      <td>2</td>\n",
       "      <td>Comparing assessment frameworks for cancer dru...</td>\n",
       "      <td>['The increasing burden of costs associated wi...</td>\n",
       "      <td>('Cheung', 'Matthew C')</td>\n",
       "      <td>ESMO open</td>\n",
       "      <td>ESMO Open</td>\n",
       "      <td>eng</td>\n",
       "    </tr>\n",
       "    <tr>\n",
       "      <th>29204565</th>\n",
       "      <td>2016</td>\n",
       "      <td>5</td>\n",
       "      <td>Early oral tongue cancer initially managed wit...</td>\n",
       "      <td>[StringElement('To report T1-2N0 tongue cancer...</td>\n",
       "      <td>('Liu', 'Jeffrey C')</td>\n",
       "      <td>World journal of otorhinolaryngology - head an...</td>\n",
       "      <td>World J Otorhinolaryngol Head Neck Surg</td>\n",
       "      <td>eng</td>\n",
       "    </tr>\n",
       "    <tr>\n",
       "      <th>29204558</th>\n",
       "      <td>2016</td>\n",
       "      <td>8</td>\n",
       "      <td>High risk cutaneous squamous cell carcinoma of...</td>\n",
       "      <td>['The majority of patients with head and neck ...</td>\n",
       "      <td>('Kang', 'Stephen Y')</td>\n",
       "      <td>World journal of otorhinolaryngology - head an...</td>\n",
       "      <td>World J Otorhinolaryngol Head Neck Surg</td>\n",
       "      <td>eng</td>\n",
       "    </tr>\n",
       "    <tr>\n",
       "      <th>29204557</th>\n",
       "      <td>2016</td>\n",
       "      <td>7</td>\n",
       "      <td>Transoral robotic surgery frontiers.</td>\n",
       "      <td>['Transoral robotic surgery is a exciting fiel...</td>\n",
       "      <td>('Bekeny', 'James R')</td>\n",
       "      <td>World journal of otorhinolaryngology - head an...</td>\n",
       "      <td>World J Otorhinolaryngol Head Neck Surg</td>\n",
       "      <td>eng</td>\n",
       "    </tr>\n",
       "    <tr>\n",
       "      <th>29204556</th>\n",
       "      <td>2016</td>\n",
       "      <td>7</td>\n",
       "      <td>Contemporary use of sentinel lymph node biopsy...</td>\n",
       "      <td>['Sentinel lymph node biopsy has become a well...</td>\n",
       "      <td>('Seim', 'Nolan B')</td>\n",
       "      <td>World journal of otorhinolaryngology - head an...</td>\n",
       "      <td>World J Otorhinolaryngol Head Neck Surg</td>\n",
       "      <td>eng</td>\n",
       "    </tr>\n",
       "  </tbody>\n",
       "</table>\n",
       "</div>"
      ],
      "text/plain": [
       "          Year  Month                                        Paper Title  \\\n",
       "id                                                                         \n",
       "29209520  2016      2  Comparing assessment frameworks for cancer dru...   \n",
       "29204565  2016      5  Early oral tongue cancer initially managed wit...   \n",
       "29204558  2016      8  High risk cutaneous squamous cell carcinoma of...   \n",
       "29204557  2016      7               Transoral robotic surgery frontiers.   \n",
       "29204556  2016      7  Contemporary use of sentinel lymph node biopsy...   \n",
       "\n",
       "                                                   Abstract  \\\n",
       "id                                                            \n",
       "29209520  ['The increasing burden of costs associated wi...   \n",
       "29204565  [StringElement('To report T1-2N0 tongue cancer...   \n",
       "29204558  ['The majority of patients with head and neck ...   \n",
       "29204557  ['Transoral robotic surgery is a exciting fiel...   \n",
       "29204556  ['Sentinel lymph node biopsy has become a well...   \n",
       "\n",
       "                First Author Name  \\\n",
       "id                                  \n",
       "29209520  ('Cheung', 'Matthew C')   \n",
       "29204565     ('Liu', 'Jeffrey C')   \n",
       "29204558    ('Kang', 'Stephen Y')   \n",
       "29204557    ('Bekeny', 'James R')   \n",
       "29204556      ('Seim', 'Nolan B')   \n",
       "\n",
       "                                               Journal Name  \\\n",
       "id                                                            \n",
       "29209520                                          ESMO open   \n",
       "29204565  World journal of otorhinolaryngology - head an...   \n",
       "29204558  World journal of otorhinolaryngology - head an...   \n",
       "29204557  World journal of otorhinolaryngology - head an...   \n",
       "29204556  World journal of otorhinolaryngology - head an...   \n",
       "\n",
       "                                     Journal Abb. Language  \n",
       "id                                                          \n",
       "29209520                                ESMO Open      eng  \n",
       "29204565  World J Otorhinolaryngol Head Neck Surg      eng  \n",
       "29204558  World J Otorhinolaryngol Head Neck Surg      eng  \n",
       "29204557  World J Otorhinolaryngol Head Neck Surg      eng  \n",
       "29204556  World J Otorhinolaryngol Head Neck Surg      eng  "
      ]
     },
     "execution_count": 10,
     "metadata": {},
     "output_type": "execute_result"
    }
   ],
   "source": [
    "df_2014_edited['Language']= df_2014_edited['Language'].astype(str).str[2:5]\n",
    "df_2015_edited['Language']= df_2015_edited['Language'].astype(str).str[2:5]\n",
    "df_2016_edited['Language']= df_2016_edited['Language'].astype(str).str[2:5]\n",
    "df_2016_edited.head(5)\n",
    "# clean up Langauge listing to get rid of the the [' ']"
   ]
  },
  {
   "cell_type": "code",
   "execution_count": 11,
   "metadata": {},
   "outputs": [
    {
     "name": "stdout",
     "output_type": "stream",
     "text": [
      "<class 'pandas.core.frame.DataFrame'>\n",
      "Int64Index: 8262 entries, 27011469 to 26827601\n",
      "Data columns (total 8 columns):\n",
      "Year                 8262 non-null int32\n",
      "Month                8262 non-null int64\n",
      "Paper Title          8262 non-null object\n",
      "Abstract             8262 non-null object\n",
      "First Author Name    8262 non-null object\n",
      "Journal Name         8262 non-null object\n",
      "Journal Abb.         8262 non-null object\n",
      "Language             8262 non-null object\n",
      "dtypes: int32(1), int64(1), object(6)\n",
      "memory usage: 548.6+ KB\n",
      "None\n"
     ]
    }
   ],
   "source": [
    "df_2014_2015 = df_2014_edited.append(df_2015_edited)\n",
    "print(df_2014_2015.info())\n",
    "# making a joint list of two years data"
   ]
  },
  {
   "cell_type": "code",
   "execution_count": 12,
   "metadata": {},
   "outputs": [
    {
     "name": "stdout",
     "output_type": "stream",
     "text": [
      "<class 'pandas.core.frame.DataFrame'>\n",
      "Int64Index: 12511 entries, 27011469 to 28040198\n",
      "Data columns (total 8 columns):\n",
      "Year                 12511 non-null int32\n",
      "Month                12511 non-null int64\n",
      "Paper Title          12511 non-null object\n",
      "Abstract             12511 non-null object\n",
      "First Author Name    12511 non-null object\n",
      "Journal Name         12511 non-null object\n",
      "Journal Abb.         12511 non-null object\n",
      "Language             12511 non-null object\n",
      "dtypes: int32(1), int64(1), object(6)\n",
      "memory usage: 830.8+ KB\n"
     ]
    }
   ],
   "source": [
    "df_all = df_2014_2015.append(df_2016_edited)\n",
    "df_all.info()\n",
    "# making a joint list of 3 years data"
   ]
  },
  {
   "cell_type": "code",
   "execution_count": 14,
   "metadata": {},
   "outputs": [
    {
     "data": {
      "image/png": "[encoded data removed]",
      "text/plain": [
       "<matplotlib.figure.Figure at 0xe3a5a90>"
      ]
     },
     "metadata": {},
     "output_type": "display_data"
    }
   ],
   "source": [
    "# Histogram of the month publication distrubution for all the data\n",
    "sns.set()\n",
    "_= plt.hist(x = df_all['Month'], bins= 12, color = 'blue', histtype = 'bar', edgecolor = 'black')\n",
    "_ = plt.xlabel('Month')\n",
    "_= plt.ylabel('Frequency of Pubmed Publications About Cancer')\n",
    "_= plt.title ('3 Year Random Data on Publication Trends by Month')\n",
    "months=[1, 2, 3, 4, 5, 6, 7, 8, 9, 10, 11, 12]\n",
    "labels = ['Jan', 'Feb', 'Mar', 'Apr', 'May', 'June', 'July', 'Aug', 'Sep', 'Oct', 'Nov', 'Dec']\n",
    "_ = plt.xticks(months, labels)\n",
    "_= plt.show()"
   ]
  },
  {
   "cell_type": "code",
   "execution_count": null,
   "metadata": {
    "collapsed": true
   },
   "outputs": [],
   "source": [
    "_= plt.scatter()\n",
    "_= plt.title()\n",
    "_= plt.xlabel()\n",
    "_= plt. ylabel()"
   ]
  },
  {
   "cell_type": "markdown",
   "metadata": {},
   "source": [
    "# Questions:\n",
    "So at this point I have cleaned up the basic data, and have looked at basic trend of how often papers are published.\n",
    "Grant writing season for NIH ( the largest grant contributor within the US) is Feb. June and October, so that seems likely to be unrelated.\n",
    "So I have a limited hypothesis why publications about cancer seem to be so skewed towards Oct- December. It might be worth checking that the data is accurate. It is consistent across each year \n",
    "\n",
    "For now I want to look into a question of if there are trends or differences in publications amounts by month through the three years currently being shown- by the key words.\n",
    "\n",
    "I am identifying Keywords by words present in either the title or abstract ( starting with Title).\n",
    "I have theoretically pulled a random assortment of reserach papers on any publication containing cancer. So I will start by identifying the rate of publications that include the terms:\n",
    "'Human', 'mouse', 'breast', and 'lung'\n",
    "\n",
    "This is to 1) look for interesting trends but also 2) check that this kind of analysis shows a count as all four should be common results, and they should have DIFFERENT results."
   ]
  },
  {
   "cell_type": "code",
   "execution_count": 13,
   "metadata": {
    "collapsed": true
   },
   "outputs": [],
   "source": [
    "#Next I want to count the iteraction of specific terms in title and abstracts to find trends \n",
    "# this is a counter for identifing how often a word is used in a string - isolates specific words and iteraters over them\n",
    "\n",
    "\n",
    "def column_count(df, column, word):\n",
    "    word_count = 0\n",
    "    for index, row in df.iterrows():\n",
    "        string = row[column]\n",
    "        total=0 #counter      \n",
    "          #the else works for strings, where item is a word             \n",
    "        sequence = string.replace(',','') #remove commas\n",
    "        sequence = sequence.replace('.','') #remove periods\n",
    "        sequence = sequence.lower() #make lowercase\n",
    "        for i in sequence.split():  #will iterate through words instead of characters\n",
    "            if i == word:\n",
    "                    total+=1\n",
    "        if total >= 1: # if the word is in the string any number of times it adds to the total counter\n",
    "            word_count += 1\n",
    "    return word_count\n",
    "    print('Contains {0} iterations of the word: {1} in Paper Titles'.format(word_count, word))\n",
    "# returns the result (total counter) as word_count\n",
    "     \n"
   ]
  },
  {
   "cell_type": "code",
   "execution_count": 14,
   "metadata": {},
   "outputs": [
    {
     "name": "stdout",
     "output_type": "stream",
     "text": [
      "{'cancer': 0.2946504870962229}\n"
     ]
    }
   ],
   "source": [
    "# proof of concept looking at one word, in title of the first df i.e. 2014\n",
    "# since I do not have equal number of results for each year I will look at the rate\n",
    "# of frequency of that word in paper titles\n",
    "df_2014_working = df_2014_edited \n",
    "df_2014_title_freq = { }\n",
    "# made an empty dictionary, to store key value of word searched and the word_count\n",
    "word_count = column_count(df_2014_working, 'Paper Title', 'cancer' )\n",
    "df_2014_title_freq['cancer']= (word_count/ len(df_2014_working))\n",
    "# saved searched word with returned word count\n",
    "print (df_2014_title_freq)\n"
   ]
  },
  {
   "cell_type": "code",
   "execution_count": 15,
   "metadata": {
    "collapsed": true
   },
   "outputs": [],
   "source": [
    "word_count = column_count(df_2014_working, 'Paper Title', 'human')\n",
    "df_2014_title_freq['human']= (word_count/ len(df_2014_working))\n",
    "\n",
    "word_count = column_count(df_2014_working, 'Paper Title', 'mouse')\n",
    "df_2014_title_freq['mouse']=(word_count/ len(df_2014_working))"
   ]
  },
  {
   "cell_type": "code",
   "execution_count": 16,
   "metadata": {},
   "outputs": [
    {
     "name": "stdout",
     "output_type": "stream",
     "text": [
      "{'cancer': 0.2946504870962229, 'human': 0.0702444026662109, 'mouse': 0.012818321654418048, 'breast': 0.012818321654418048, 'lung': 0.053836950948555805}\n"
     ]
    }
   ],
   "source": [
    "word_cout = column_count(df_2014_working, 'Paper Title', 'breast')\n",
    "df_2014_title_freq['breast']= (word_count/ len(df_2014_working))\n",
    "word_count = column_count(df_2014_working, 'Paper Title', 'lung')\n",
    "df_2014_title_freq['lung']= (word_count/ len(df_2014_working))\n",
    "\n",
    "print(df_2014_title_freq)"
   ]
  },
  {
   "cell_type": "code",
   "execution_count": 30,
   "metadata": {},
   "outputs": [
    {
     "name": "stdout",
     "output_type": "stream",
     "text": [
      "{'cancer': 0.3231024471173787, 'human': 0.04852758191621734, 'mouse': 0.0037328909166321027, 'breast': 0.08461219411032767, 'lung': 0.06511820821236002}\n",
      "{'cancer': 0.3224288067780654, 'human': 0.04942339373970346, 'mouse': 0.0063544363379618735, 'breast': 0.07860673099552835, 'lung': 0.06048481995763709}\n"
     ]
    }
   ],
   "source": [
    "# Now that I have seen it correctly produces a dictionary, I am going to make a dictionary for each year \n",
    "# and express the compared results in a graph\n",
    "df_2015_working = df_2015_edited\n",
    "df_2016_working = df_2016_edited\n",
    "\n",
    "df_2015_title_freq= {}\n",
    "df_2016_title_freq = {}\n",
    "\n",
    "word_count = column_count(df_2015_working, 'Paper Title', 'cancer')\n",
    "df_2015_title_freq['cancer']= (word_count/ len(df_2015_working))\n",
    "word_count = column_count(df_2015_working, 'Paper Title', 'human')\n",
    "df_2015_title_freq['human']= (word_count/ len(df_2015_working))\n",
    "word_count= column_count(df_2015_working, 'Paper Title', 'mouse')\n",
    "df_2015_title_freq['mouse']= (word_count/ len(df_2015_working))\n",
    "word_count = column_count(df_2015_working, 'Paper Title', 'breast')\n",
    "df_2015_title_freq['breast']= (word_count/ len(df_2015_working))\n",
    "word_count = column_count(df_2015_working, 'Paper Title', 'lung')\n",
    "df_2015_title_freq['lung']= (word_count/ len(df_2015_working))\n",
    "\n",
    "word_count = column_count(df_2016_working, 'Paper Title', 'cancer')\n",
    "df_2016_title_freq['cancer']= (word_count/ len(df_2016_working))\n",
    "word_count = column_count(df_2016_working, 'Paper Title', 'human')\n",
    "df_2016_title_freq['human']= (word_count/ len(df_2016_working))\n",
    "word_count = column_count(df_2016_working, 'Paper Title', 'mouse')\n",
    "df_2016_title_freq['mouse']= (word_count/ len(df_2016_working))\n",
    "word_count = column_count(df_2016_working, 'Paper Title', 'breast')\n",
    "df_2016_title_freq['breast']= (word_count/ len(df_2016_working))\n",
    "word_count = column_count(df_2016_working, 'Paper Title', 'lung')\n",
    "df_2016_title_freq['lung']= (word_count/ len(df_2016_working))\n",
    "\n",
    "print(df_2015_title_freq)\n",
    "print(df_2016_title_freq)\n",
    "\n",
    "# If I am going to use this over and over, I will write a function to apply the previous function with different words\n",
    "# and returning into these dictionaries. "
   ]
  },
  {
   "cell_type": "code",
   "execution_count": null,
   "metadata": {
    "collapsed": true
   },
   "outputs": [],
   "source": [
    "def df_of_counts( dfs_list, column, words):\n",
    "    for df in dfs_list:\n",
    "        for word in words:\n",
    "            column_count(df, column, word)\n",
    "            return df_freq['word']= (word_count/len(df))\n",
    "        return df_freq"
   ]
  },
  {
   "cell_type": "code",
   "execution_count": 18,
   "metadata": {},
   "outputs": [
    {
     "name": "stdout",
     "output_type": "stream",
     "text": [
      "dict_values([0.2946504870962229, 0.0702444026662109, 0.012818321654418048, 0.012818321654418048, 0.053836950948555805])\n"
     ]
    }
   ],
   "source": [
    "print(df_2014_title_freq.values())"
   ]
  },
  {
   "cell_type": "code",
   "execution_count": 58,
   "metadata": {},
   "outputs": [
    {
     "data": {
      "image/png": "[encoded data removed]",
      "text/plain": [
       "<matplotlib.figure.Figure at 0xf73a828>"
      ]
     },
     "metadata": {},
     "output_type": "display_data"
    }
   ],
   "source": [
    "_= plt.bar(range(len(df_2014_title_freq)), list(df_2014_title_freq.values()), align='edge', color = 'c', edgecolor = 'black', width = -0.4, label = '2014')\n",
    "_= plt.bar(range(len(df_2015_title_freq)), list(df_2015_title_freq.values()), align='center', color = 'red', edgecolor = 'black', width = 0.4, label= '2015')\n",
    "_= plt.bar(range(len(df_2016_title_freq)), list(df_2016_title_freq.values()), align='edge', color = 'g', edgecolor = 'black', width = 0.4, label = '2016')\n",
    "_= plt.xticks(range(len(df_2014_title_freq)), list(df_2014_title_freq.keys()))\n",
    "_= plt.title('Frequency of Specific Words in Pubmed publications on Cancer in 2014-2016')\n",
    "_= plt.legend(bbox_to_anchor=(1.05, 1), loc=2, borderaxespad=0.)\n",
    "_= plt.show()\n",
    "# Christmas colors"
   ]
  },
  {
   "cell_type": "markdown",
   "metadata": {},
   "source": [
    "So the Frequency of word choice in titles among the three years was relatively unchanged. However, I now have a tool to look for more words.\n",
    "\n",
    "I also found there are data bases easily available by keyword search on pubmed (without having to scrape) however the result is limited to number of publications per year by a single search phrase. But using that to look at specific trends could be interesting. "
   ]
  },
  {
   "cell_type": "code",
   "execution_count": 77,
   "metadata": {},
   "outputs": [],
   "source": [
    "df_cancer_time =pd.read_csv('C:/Users/Esme/Desktop/Springboard/Data_Scrapper/timeline_cancer.csv', header= 1, na_filter = False)\n",
    "df_health_time =pd.read_csv('C:/Users/Esme/Desktop/Springboard/Data_Scrapper/timeline_health.csv', header= 1, na_filter = False)\n",
    "df_human_time =pd.read_csv('C:/Users/Esme/Desktop/Springboard/Data_Scrapper/timeline_human.csv', header= 1, na_filter = False)\n",
    "df_heartdisease_time =pd.read_csv('C:/Users/Esme/Desktop/Springboard/Data_Scrapper/timeline_heartdisease.csv', header= 1, na_filter = False)\n",
    "df_diabetes_time =pd.read_csv('C:/Users/Esme/Desktop/Springboard/Data_Scrapper/timeline_diabetes.csv', header= 1, na_filter = False)\n",
    "df_diabetes1_time =pd.read_csv('C:/Users/Esme/Desktop/Springboard/Data_Scrapper/timeline_diabetestype1.csv', header= 1, na_filter = False)\n",
    "df_diabetes2_time =pd.read_csv('C:/Users/Esme/Desktop/Springboard/Data_Scrapper/timeline_diabetestype2.csv', header= 1, na_filter = False)\n",
    "df_lesbian_time =pd.read_csv('C:/Users/Esme/Desktop/Springboard/Data_Scrapper/timeline_lesbian.csv', header= 1, na_filter = False)\n",
    "df_gay_time =pd.read_csv('C:/Users/Esme/Desktop/Springboard/Data_Scrapper/timeline_gay.csv', header= 1, na_filter = False)\n",
    "df_homosexual_time =pd.read_csv('C:/Users/Esme/Desktop/Springboard/Data_Scrapper/timeline_homosexual.csv', header= 1, na_filter = False)\n",
    "df_bisexual_time =pd.read_csv('C:/Users/Esme/Desktop/Springboard/Data_Scrapper/timeline_bisexual.csv', header= 1, na_filter = False)\n",
    "df_transgender_time =pd.read_csv('C:/Users/Esme/Desktop/Springboard/Data_Scrapper/timeline_transgender.csv', header= 1, na_filter = False)\n",
    "\n"
   ]
  },
  {
   "cell_type": "markdown",
   "metadata": {},
   "source": [
    "The question is: in order to better think about the data we found above, has the general trend in publications about cancer about matched the trend in (increased or decreased) number of papers published period. "
   ]
  },
  {
   "cell_type": "code",
   "execution_count": 81,
   "metadata": {},
   "outputs": [
    {
     "data": {
      "image/png": "[encoded data removed]",
      "text/plain": [
       "<matplotlib.figure.Figure at 0xf4407f0>"
      ]
     },
     "metadata": {},
     "output_type": "display_data"
    }
   ],
   "source": [
    "__= plt.scatter(df_cancer_time['year'] , df_cancer_time['count'], color = 'red', label='Cancer')\n",
    "__= plt.scatter(df_human_time['year'] , df_human_time['count'], color = 'c', label= 'Human')\n",
    "__= plt.scatter(df_health_time['year'] , df_health_time['count'], color = 'blue', label='Health')\n",
    "__= plt.scatter(df_heartdisease_time['year'] , df_heartdisease_time['count'], color = 'm', label='Heart Disease')\n",
    "__= plt.scatter(df_diabetes_time['year'] , df_diabetes_time['count'], color = 'g', label= ' Diabetes')\n",
    "__ =plt.title('Frequency of Publication Containing Search Terms on Pubmed by Year')\n",
    "__= plt.legend(bbox_to_anchor=(1.05, 1), loc=2, borderaxespad=0.)\n",
    "__ = plt.xlabel('Year')\n",
    "__= plt.ylabel('Number of Publications')\n",
    "__=plt.show()"
   ]
  },
  {
   "cell_type": "markdown",
   "metadata": {
    "collapsed": true
   },
   "source": [
    "The Answer is: yes. The number of publications for cancer appears to generally match trend of increases publications in cacner, and the words health and human. Moreso then two other common diseases (that have both been topics of research and investment in the US and around the world) Heart disease and Diabetes. Interesting. "
   ]
  },
  {
   "cell_type": "code",
   "execution_count": null,
   "metadata": {
    "collapsed": true
   },
   "outputs": [],
   "source": []
  }
 ],
 "metadata": {
  "kernelspec": {
   "display_name": "Python 3",
   "language": "python",
   "name": "python3"
  },
  "language_info": {
   "codemirror_mode": {
    "name": "ipython",
    "version": 3
   },
   "file_extension": ".py",
   "mimetype": "text/x-python",
   "name": "python",
   "nbconvert_exporter": "python",
   "pygments_lexer": "ipython3",
   "version": "3.6.1"
  }
 },
 "nbformat": 4,
 "nbformat_minor": 2
}
